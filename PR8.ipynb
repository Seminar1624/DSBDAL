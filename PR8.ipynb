{
 "cells": [
  {
   "cell_type": "markdown",
   "id": "b1fa0783-af53-4fca-a0bc-a6577cbb5597",
   "metadata": {},
   "source": [
    "**\n",
    "\n",
    "Create a Linear Regression Model using Python/R to predict home prices using Boston Housing Dataset (https://www.kaggle.com/c/boston-housing). \n",
    "The Boston Housing dataset contains information about various houses in Boston through different parameters. \n",
    "There are 506 samples and 14 feature variables in this dataset.\n",
    "The objective is to predict the value of prices of the house using the given features.\n",
    "The Boston Housing Dataset**\n",
    "\n",
    "The Boston Housing Dataset is a derived from information collected by the U.S. Census Service concerning housing in the area of Boston MA. The following describes the dataset columns:\n",
    "\n",
    "CRIM - per capita crime rate by town\n",
    "ZN - proportion of residential land zoned for lots over 25,000 sq.ft.\n",
    "INDUS - proportion of non-retail business acres per town.\n",
    "CHAS - Charles River dummy variable (1 if tract bounds river; 0 otherwise)\n",
    "NOX - nitric oxides concentration (parts per 10 million)\n",
    "RM - average number of rooms per dwelling\n",
    "AGE - proportion of owner-occupied units built prior to 1940\n",
    "DIS - weighted distances to five Boston employment centres\n",
    "RAD - index of accessibility to radial highways\n",
    "TAX - full-value property-tax rate per $10,000\n",
    "PTRATIO - pupil-teacher ratio by town\n",
    "B - 1000(Bk - 0.63)^2 where Bk is the proportion of blacks by town\n",
    "LSTAT - % lower status of the population\n",
    "MEDV - Median value of owner-occupied homes in $1000's\n",
    "Label = MEDV"
   ]
  },
  {
   "cell_type": "markdown",
   "id": "7a64ed51-1d57-4ded-9998-fec9419649bd",
   "metadata": {},
   "source": [
    "**#step 1: Import necessary libraries**"
   ]
  },
  {
   "cell_type": "code",
   "execution_count": 3,
   "id": "393dd8ba-a76e-4371-83bf-8c848b0df2a3",
   "metadata": {},
   "outputs": [],
   "source": [
    "# Step 1: Import necessary libraries\n",
    "import pandas as pd\n",
    "import numpy as np\n",
    "import matplotlib.pyplot as plt\n",
    "from sklearn.model_selection import train_test_split\n",
    "from sklearn.linear_model import LinearRegression\n",
    "from sklearn.metrics import mean_squared_error, r2_score\n",
    "\n"
   ]
  },
  {
   "cell_type": "code",
   "execution_count": 28,
   "id": "4aeec597-e3c9-4e37-ba5b-a86ac88d307b",
   "metadata": {},
   "outputs": [
    {
     "name": "stdout",
     "output_type": "stream",
     "text": [
      "   Crime_rate    zn  indus  chas    nox     rm   Age  Distance  rad  tax  \\\n",
      "0     0.00632  18.0   2.31     0  0.538  6.575  65.2    4.0900    1  296   \n",
      "1     0.02731   0.0   7.07     0  0.469  6.421  78.9    4.9671    2  242   \n",
      "2     0.02729   0.0   7.07     0  0.469  7.185  61.1    4.9671    2  242   \n",
      "3     0.03237   0.0   2.18     0  0.458  6.998  45.8    6.0622    3  222   \n",
      "4     0.06905   0.0   2.18     0  0.458  7.147  54.2    6.0622    3  222   \n",
      "\n",
      "   ptratio       b  lstat  medv  \n",
      "0     15.3  396.90   4.98  24.0  \n",
      "1     17.8  396.90   9.14  21.6  \n",
      "2     17.8  392.83   4.03  34.7  \n",
      "3     18.7  394.63   2.94  33.4  \n",
      "4     18.7  396.90   5.33  36.2  \n"
     ]
    }
   ],
   "source": [
    "# Load the dataset from the CSV file\n",
    "df = pd.read_csv('BostonHousing.csv')\n",
    "\n",
    "print(df.head())"
   ]
  },
  {
   "cell_type": "code",
   "execution_count": 29,
   "id": "bd2a2ca4-1f79-4b49-8891-c7268bb1ab1e",
   "metadata": {},
   "outputs": [
    {
     "name": "stdout",
     "output_type": "stream",
     "text": [
      "       Crime_rate          zn       indus        chas         nox          rm  \\\n",
      "count  506.000000  506.000000  506.000000  506.000000  506.000000  501.000000   \n",
      "mean     3.613524   11.363636   11.136779    0.069170    0.554695    6.284341   \n",
      "std      8.601545   23.322453    6.860353    0.253994    0.115878    0.705587   \n",
      "min      0.006320    0.000000    0.460000    0.000000    0.385000    3.561000   \n",
      "25%      0.082045    0.000000    5.190000    0.000000    0.449000    5.884000   \n",
      "50%      0.256510    0.000000    9.690000    0.000000    0.538000    6.208000   \n",
      "75%      3.677083   12.500000   18.100000    0.000000    0.624000    6.625000   \n",
      "max     88.976200  100.000000   27.740000    1.000000    0.871000    8.780000   \n",
      "\n",
      "              Age    Distance         rad         tax     ptratio           b  \\\n",
      "count  506.000000  506.000000  506.000000  506.000000  506.000000  506.000000   \n",
      "mean    68.574901    3.795043    9.549407  408.237154   18.455534  356.674032   \n",
      "std     28.148861    2.105710    8.707259  168.537116    2.164946   91.294864   \n",
      "min      2.900000    1.129600    1.000000  187.000000   12.600000    0.320000   \n",
      "25%     45.025000    2.100175    4.000000  279.000000   17.400000  375.377500   \n",
      "50%     77.500000    3.207450    5.000000  330.000000   19.050000  391.440000   \n",
      "75%     94.075000    5.188425   24.000000  666.000000   20.200000  396.225000   \n",
      "max    100.000000   12.126500   24.000000  711.000000   22.000000  396.900000   \n",
      "\n",
      "            lstat        medv  \n",
      "count  506.000000  506.000000  \n",
      "mean    12.653063   22.532806  \n",
      "std      7.141062    9.197104  \n",
      "min      1.730000    5.000000  \n",
      "25%      6.950000   17.025000  \n",
      "50%     11.360000   21.200000  \n",
      "75%     16.955000   25.000000  \n",
      "max     37.970000   50.000000  \n"
     ]
    }
   ],
   "source": [
    "print(df.describe())"
   ]
  },
  {
   "cell_type": "code",
   "execution_count": 7,
   "id": "14a61189-138b-439b-86be-352c7cb85d1e",
   "metadata": {},
   "outputs": [
    {
     "name": "stdout",
     "output_type": "stream",
     "text": [
      "<class 'pandas.core.frame.DataFrame'>\n",
      "RangeIndex: 506 entries, 0 to 505\n",
      "Data columns (total 14 columns):\n",
      " #   Column      Non-Null Count  Dtype  \n",
      "---  ------      --------------  -----  \n",
      " 0   Crime_rate  506 non-null    float64\n",
      " 1   zn          506 non-null    float64\n",
      " 2   indus       506 non-null    float64\n",
      " 3   chas        506 non-null    int64  \n",
      " 4   nox         506 non-null    float64\n",
      " 5   rm          501 non-null    float64\n",
      " 6   Age         506 non-null    float64\n",
      " 7   Distance    506 non-null    float64\n",
      " 8   rad         506 non-null    int64  \n",
      " 9   tax         506 non-null    int64  \n",
      " 10  ptratio     506 non-null    float64\n",
      " 11  b           506 non-null    float64\n",
      " 12  lstat       506 non-null    float64\n",
      " 13  medv        506 non-null    float64\n",
      "dtypes: float64(11), int64(3)\n",
      "memory usage: 55.5 KB\n",
      "None\n"
     ]
    }
   ],
   "source": [
    "print(df.info())"
   ]
  },
  {
   "cell_type": "code",
   "execution_count": 30,
   "id": "d197b4b8-9d87-46fd-819e-6018af870731",
   "metadata": {},
   "outputs": [
    {
     "name": "stdout",
     "output_type": "stream",
     "text": [
      "\n",
      "Checking for missing values:\n",
      "Crime_rate    0\n",
      "zn            0\n",
      "indus         0\n",
      "chas          0\n",
      "nox           0\n",
      "rm            5\n",
      "Age           0\n",
      "Distance      0\n",
      "rad           0\n",
      "tax           0\n",
      "ptratio       0\n",
      "b             0\n",
      "lstat         0\n",
      "medv          0\n",
      "dtype: int64\n"
     ]
    }
   ],
   "source": [
    "# Step 3: Data Preprocessing\n",
    "# Check for missing values\n",
    "print(\"\\nChecking for missing values:\")\n",
    "print(df.isnull().sum())"
   ]
  },
  {
   "cell_type": "code",
   "execution_count": 31,
   "id": "70e427b5-95d8-40cd-91c5-0e07589274fb",
   "metadata": {},
   "outputs": [
    {
     "name": "stdout",
     "output_type": "stream",
     "text": [
      "Training set size: 404\n",
      "Testing set size: 102\n"
     ]
    }
   ],
   "source": [
    "# Define the feature (independent variable) and target (dependent variable)\n",
    "X = df[['rm']]  # RM is the number of rooms in lower case\n",
    "y = df['medv']  # Target variable is 'medv' for median home value\n",
    "\n",
    "# Split the data into training and testing sets (80% train, 20% test)\n",
    "X_train, X_test, y_train, y_test = train_test_split(X, y, test_size=0.2, random_state=42)\n",
    "\n",
    "print(f\"Training set size: {X_train.shape[0]}\")\n",
    "print(f\"Testing set size: {X_test.shape[0]}\")"
   ]
  },
  {
   "cell_type": "code",
   "execution_count": 22,
   "id": "7347f9af-e4b9-4bb1-a89b-b3c59074eb8e",
   "metadata": {},
   "outputs": [
    {
     "name": "stdout",
     "output_type": "stream",
     "text": [
      "Training set size: 400\n",
      "Testing set size: 101\n"
     ]
    }
   ],
   "source": [
    "'''# Drop rows with missing values\n",
    "\n",
    "df = df.dropna()\n",
    "\n",
    "# Split the data into training and testing sets again\n",
    "X = df[['rm']]  # Feature (number of rooms)\n",
    "y = df['medv']  # Target (house price)\n",
    "\n",
    "# Split the data into training and testing sets (80% train, 20% test)\n",
    "X_train, X_test, y_train, y_test = train_test_split(X, y, test_size=0.2, random_state=42)\n",
    "print(f\"Training set size: {X_train.shape[0]}\")\n",
    "print(f\"Testing set size: {X_test.shape[0]}\")'''"
   ]
  },
  {
   "cell_type": "code",
   "execution_count": 32,
   "id": "6cf39e90-2924-42b6-bc3b-d2fac53c67e2",
   "metadata": {},
   "outputs": [
    {
     "name": "stdout",
     "output_type": "stream",
     "text": [
      "Training set size: 404\n",
      "Testing set size: 102\n"
     ]
    }
   ],
   "source": [
    "# Fill missing values in the feature and target columns with their mean\n",
    "df['rm'] = df['rm'].fillna(df['rm'].mean())\n",
    "df['medv'] = df['medv'].fillna(df['medv'].mean())\n",
    "\n",
    "# Split the data into training and testing sets again\n",
    "X = df[['rm']]  # Feature (number of rooms)\n",
    "y = df['medv']  # Target (house price)\n",
    "\n",
    "# Split the data into training and testing sets (80% train, 20% test)\n",
    "X_train, X_test, y_train, y_test = train_test_split(X, y, test_size=0.2, random_state=42)\n",
    "print(f\"Training set size: {X_train.shape[0]}\")\n",
    "print(f\"Testing set size: {X_test.shape[0]}\")"
   ]
  },
  {
   "cell_type": "code",
   "execution_count": 33,
   "id": "cb67f4c5-cd24-4e3d-ba60-610a07eaf056",
   "metadata": {},
   "outputs": [
    {
     "name": "stdout",
     "output_type": "stream",
     "text": [
      "rm    0\n",
      "dtype: int64\n"
     ]
    }
   ],
   "source": [
    "# Check for missing values after preprocessing\n",
    "print(X_train.isnull().sum())  # This should show 0 if there are no missing values\n"
   ]
  },
  {
   "cell_type": "code",
   "execution_count": 34,
   "id": "f2dbb629-eadd-4b37-80f6-168db22f69a5",
   "metadata": {},
   "outputs": [
    {
     "name": "stdout",
     "output_type": "stream",
     "text": [
      "Intercept: -36.28556028565263\n",
      "Coefficient: [9.35330719]\n"
     ]
    }
   ],
   "source": [
    "# Create a Linear Regression model\n",
    "model = LinearRegression()\n",
    "\n",
    "# Train the model on the training data\n",
    "model.fit(X_train, y_train)\n",
    "\n",
    "# Print the intercept and coefficient\n",
    "print(f\"Intercept: {model.intercept_}\")\n",
    "print(f\"Coefficient: {model.coef_}\")"
   ]
  },
  {
   "cell_type": "code",
   "execution_count": 35,
   "id": "58f7c45c-cd18-433f-ae0b-a9c714435097",
   "metadata": {},
   "outputs": [
    {
     "name": "stdout",
     "output_type": "stream",
     "text": [
      "     Actual  Predicted\n",
      "173    23.6  23.725259\n",
      "274    32.4  26.924090\n",
      "491    13.6  19.675277\n",
      "72     22.8  20.442248\n",
      "452    16.1  22.612215\n"
     ]
    }
   ],
   "source": [
    "# Predict house prices for the test set\n",
    "y_pred = model.predict(X_test)\n",
    "\n",
    "# Display the first few predictions alongside the actual values\n",
    "predictions = pd.DataFrame({'Actual': y_test, 'Predicted': y_pred})\n",
    "print(predictions.head())"
   ]
  },
  {
   "cell_type": "code",
   "execution_count": 20,
   "id": "c1dd0196-c7b7-4ed5-a53e-5359e8a617ab",
   "metadata": {},
   "outputs": [
    {
     "data": {
      "image/png": "[encoded data removed]",
      "text/plain": [
       "<Figure size 640x480 with 1 Axes>"
      ]
     },
     "metadata": {},
     "output_type": "display_data"
    }
   ],
   "source": [
    "# Plot the actual data points\n",
    "plt.scatter(X_test, y_test, color='blue', label='Actual')\n",
    "\n",
    "# Plot the regression line\n",
    "plt.plot(X_test, y_pred, color='red', label='Regression Line')\n",
    "\n",
    "# Add labels and title\n",
    "plt.xlabel('Number of Rooms (RM)')\n",
    "plt.ylabel('House Price ($1000s)')\n",
    "plt.title('Simple Linear Regression: Number of Rooms vs. House Price')\n",
    "\n",
    "# Display the legend\n",
    "plt.legend()\n",
    "\n",
    "# Show the plot\n",
    "plt.show()"
   ]
  },
  {
   "cell_type": "code",
   "execution_count": 21,
   "id": "39be8811-db61-41a4-97f9-a3393b7483a4",
   "metadata": {},
   "outputs": [
    {
     "name": "stdout",
     "output_type": "stream",
     "text": [
      "Mean Squared Error: 40.548380578263284\n",
      "R-squared score: 0.4512483559980376\n"
     ]
    }
   ],
   "source": [
    "# Calculate Mean Squared Error (MSE)\n",
    "mse = mean_squared_error(y_test, y_pred)\n",
    "print(f\"Mean Squared Error: {mse}\")\n",
    "\n",
    "# Calculate R-squared score\n",
    "r2 = r2_score(y_test, y_pred)\n",
    "print(f\"R-squared score: {r2}\")"
   ]
  },
  {
   "cell_type": "code",
   "execution_count": null,
   "id": "ad538de5-7752-4c82-b9e0-108bab592b30",
   "metadata": {},
   "outputs": [],
   "source": []
  }
 ],
 "metadata": {
  "kernelspec": {
   "display_name": "Python 3 (ipykernel)",
   "language": "python",
   "name": "python3"
  },
  "language_info": {
   "codemirror_mode": {
    "name": "ipython",
    "version": 3
   },
   "file_extension": ".py",
   "mimetype": "text/x-python",
   "name": "python",
   "nbconvert_exporter": "python",
   "pygments_lexer": "ipython3",
   "version": "3.10.12"
  }
 },
 "nbformat": 4,
 "nbformat_minor": 5
}
