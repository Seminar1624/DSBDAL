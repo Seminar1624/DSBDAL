{
 "cells": [
  {
   "cell_type": "markdown",
   "id": "f0a1340c-92ef-4be5-a0b7-8067059cefec",
   "metadata": {},
   "source": [
    "** Data \n",
    "Visualization III\n",
    "Download the Iris flower dataset or any other dataset into a DataFrame. (e.g., https://archive.ics.uci.edu/ml/datasets/Iris).\n",
    " Scan the dataset and give the inference as:\n",
    "    1. List down the features and their types (e.g., numeric, nominal) available in the dataset.\n",
    "    2. Create a histogram for each feature in the dataset to illustrate the feature distributions.\n",
    "    3. Create a box plot for each feature in the dataset.\n",
    "Compare distributions and identify outliers**"
   ]
  },
  {
   "cell_type": "code",
   "execution_count": null,
   "id": "2c4048a0",
   "metadata": {},
   "outputs": [],
   "source": []
  },
  {
   "cell_type": "markdown",
   "id": "361b462d",
   "metadata": {},
   "source": []
  },
  {
   "cell_type": "code",
   "execution_count": 1,
   "id": "b9a548f3-cc29-40c1-8b4d-15fa5d1bf007",
   "metadata": {},
   "outputs": [],
   "source": [
    "import pandas as pd\n",
    "import seaborn as sns\n",
    "import matplotlib.pyplot as plt\n",
    "import numpy as np"
   ]
  },
  {
   "cell_type": "code",
   "execution_count": 27,
   "id": "49c20386-c5dc-4400-a315-941ad41a9dfb",
   "metadata": {},
   "outputs": [],
   "source": [
    "#load dataset\n",
    "data=pd.read_csv('data_iris.csv')"
   ]
  },
  {
   "cell_type": "code",
   "execution_count": 4,
   "id": "3be4c73f-10d8-469b-a93d-c5afe47f933e",
   "metadata": {},
   "outputs": [
    {
     "data": {
      "text/html": [
       "<div>\n",
       "<style scoped>\n",
       "    .dataframe tbody tr th:only-of-type {\n",
       "        vertical-align: middle;\n",
       "    }\n",
       "\n",
       "    .dataframe tbody tr th {\n",
       "        vertical-align: top;\n",
       "    }\n",
       "\n",
       "    .dataframe thead th {\n",
       "        text-align: right;\n",
       "    }\n",
       "</style>\n",
       "<table border=\"1\" class=\"dataframe\">\n",
       "  <thead>\n",
       "    <tr style=\"text-align: right;\">\n",
       "      <th></th>\n",
       "      <th>Id</th>\n",
       "      <th>SepalLengthCm</th>\n",
       "      <th>SepalWidthCm</th>\n",
       "      <th>PetalLengthCm</th>\n",
       "      <th>PetalWidthCm</th>\n",
       "      <th>Species</th>\n",
       "    </tr>\n",
       "  </thead>\n",
       "  <tbody>\n",
       "    <tr>\n",
       "      <th>0</th>\n",
       "      <td>1</td>\n",
       "      <td>5.1</td>\n",
       "      <td>3.5</td>\n",
       "      <td>1.4</td>\n",
       "      <td>0.2</td>\n",
       "      <td>Iris-setosa</td>\n",
       "    </tr>\n",
       "    <tr>\n",
       "      <th>1</th>\n",
       "      <td>2</td>\n",
       "      <td>4.9</td>\n",
       "      <td>3.0</td>\n",
       "      <td>1.4</td>\n",
       "      <td>0.2</td>\n",
       "      <td>Iris-setosa</td>\n",
       "    </tr>\n",
       "    <tr>\n",
       "      <th>2</th>\n",
       "      <td>3</td>\n",
       "      <td>4.7</td>\n",
       "      <td>3.2</td>\n",
       "      <td>1.3</td>\n",
       "      <td>0.2</td>\n",
       "      <td>Iris-setosa</td>\n",
       "    </tr>\n",
       "    <tr>\n",
       "      <th>3</th>\n",
       "      <td>4</td>\n",
       "      <td>4.6</td>\n",
       "      <td>3.1</td>\n",
       "      <td>1.5</td>\n",
       "      <td>0.2</td>\n",
       "      <td>Iris-setosa</td>\n",
       "    </tr>\n",
       "    <tr>\n",
       "      <th>4</th>\n",
       "      <td>5</td>\n",
       "      <td>5.0</td>\n",
       "      <td>3.6</td>\n",
       "      <td>1.4</td>\n",
       "      <td>0.2</td>\n",
       "      <td>Iris-setosa</td>\n",
       "    </tr>\n",
       "  </tbody>\n",
       "</table>\n",
       "</div>"
      ],
      "text/plain": [
       "   Id  SepalLengthCm  SepalWidthCm  PetalLengthCm  PetalWidthCm      Species\n",
       "0   1            5.1           3.5            1.4           0.2  Iris-setosa\n",
       "1   2            4.9           3.0            1.4           0.2  Iris-setosa\n",
       "2   3            4.7           3.2            1.3           0.2  Iris-setosa\n",
       "3   4            4.6           3.1            1.5           0.2  Iris-setosa\n",
       "4   5            5.0           3.6            1.4           0.2  Iris-setosa"
      ]
     },
     "execution_count": 4,
     "metadata": {},
     "output_type": "execute_result"
    }
   ],
   "source": [
    "data.head()"
   ]
  },
  {
   "cell_type": "code",
   "execution_count": 28,
   "id": "7d541030-454c-49c1-9688-e7b5768d3cd3",
   "metadata": {},
   "outputs": [
    {
     "data": {
      "text/html": [
       "<div>\n",
       "<style scoped>\n",
       "    .dataframe tbody tr th:only-of-type {\n",
       "        vertical-align: middle;\n",
       "    }\n",
       "\n",
       "    .dataframe tbody tr th {\n",
       "        vertical-align: top;\n",
       "    }\n",
       "\n",
       "    .dataframe thead th {\n",
       "        text-align: right;\n",
       "    }\n",
       "</style>\n",
       "<table border=\"1\" class=\"dataframe\">\n",
       "  <thead>\n",
       "    <tr style=\"text-align: right;\">\n",
       "      <th></th>\n",
       "      <th>sepal_length</th>\n",
       "      <th>sepal_width</th>\n",
       "      <th>petal_length</th>\n",
       "      <th>petal_width</th>\n",
       "      <th>species</th>\n",
       "    </tr>\n",
       "  </thead>\n",
       "  <tbody>\n",
       "    <tr>\n",
       "      <th>0</th>\n",
       "      <td>5.1</td>\n",
       "      <td>3.5</td>\n",
       "      <td>1.4</td>\n",
       "      <td>0.2</td>\n",
       "      <td>setosa</td>\n",
       "    </tr>\n",
       "    <tr>\n",
       "      <th>1</th>\n",
       "      <td>4.9</td>\n",
       "      <td>3.0</td>\n",
       "      <td>1.4</td>\n",
       "      <td>0.2</td>\n",
       "      <td>setosa</td>\n",
       "    </tr>\n",
       "    <tr>\n",
       "      <th>2</th>\n",
       "      <td>4.7</td>\n",
       "      <td>3.2</td>\n",
       "      <td>1.3</td>\n",
       "      <td>0.2</td>\n",
       "      <td>setosa</td>\n",
       "    </tr>\n",
       "    <tr>\n",
       "      <th>3</th>\n",
       "      <td>4.6</td>\n",
       "      <td>3.1</td>\n",
       "      <td>1.5</td>\n",
       "      <td>0.2</td>\n",
       "      <td>setosa</td>\n",
       "    </tr>\n",
       "    <tr>\n",
       "      <th>4</th>\n",
       "      <td>5.0</td>\n",
       "      <td>3.6</td>\n",
       "      <td>1.4</td>\n",
       "      <td>0.2</td>\n",
       "      <td>setosa</td>\n",
       "    </tr>\n",
       "    <tr>\n",
       "      <th>...</th>\n",
       "      <td>...</td>\n",
       "      <td>...</td>\n",
       "      <td>...</td>\n",
       "      <td>...</td>\n",
       "      <td>...</td>\n",
       "    </tr>\n",
       "    <tr>\n",
       "      <th>145</th>\n",
       "      <td>6.7</td>\n",
       "      <td>3.0</td>\n",
       "      <td>5.2</td>\n",
       "      <td>2.3</td>\n",
       "      <td>virginica</td>\n",
       "    </tr>\n",
       "    <tr>\n",
       "      <th>146</th>\n",
       "      <td>6.3</td>\n",
       "      <td>2.5</td>\n",
       "      <td>5.0</td>\n",
       "      <td>1.9</td>\n",
       "      <td>virginica</td>\n",
       "    </tr>\n",
       "    <tr>\n",
       "      <th>147</th>\n",
       "      <td>6.5</td>\n",
       "      <td>3.0</td>\n",
       "      <td>5.2</td>\n",
       "      <td>2.0</td>\n",
       "      <td>virginica</td>\n",
       "    </tr>\n",
       "    <tr>\n",
       "      <th>148</th>\n",
       "      <td>6.2</td>\n",
       "      <td>3.4</td>\n",
       "      <td>5.4</td>\n",
       "      <td>2.3</td>\n",
       "      <td>virginica</td>\n",
       "    </tr>\n",
       "    <tr>\n",
       "      <th>149</th>\n",
       "      <td>5.9</td>\n",
       "      <td>3.0</td>\n",
       "      <td>5.1</td>\n",
       "      <td>1.8</td>\n",
       "      <td>virginica</td>\n",
       "    </tr>\n",
       "  </tbody>\n",
       "</table>\n",
       "<p>150 rows × 5 columns</p>\n",
       "</div>"
      ],
      "text/plain": [
       "     sepal_length  sepal_width  petal_length  petal_width    species\n",
       "0             5.1          3.5           1.4          0.2     setosa\n",
       "1             4.9          3.0           1.4          0.2     setosa\n",
       "2             4.7          3.2           1.3          0.2     setosa\n",
       "3             4.6          3.1           1.5          0.2     setosa\n",
       "4             5.0          3.6           1.4          0.2     setosa\n",
       "..            ...          ...           ...          ...        ...\n",
       "145           6.7          3.0           5.2          2.3  virginica\n",
       "146           6.3          2.5           5.0          1.9  virginica\n",
       "147           6.5          3.0           5.2          2.0  virginica\n",
       "148           6.2          3.4           5.4          2.3  virginica\n",
       "149           5.9          3.0           5.1          1.8  virginica\n",
       "\n",
       "[150 rows x 5 columns]"
      ]
     },
     "execution_count": 28,
     "metadata": {},
     "output_type": "execute_result"
    }
   ],
   "source": [
    "data"
   ]
  },
  {
   "cell_type": "code",
   "execution_count": null,
   "id": "1e36f572-d27b-4de4-81c1-acc062cff134",
   "metadata": {},
   "outputs": [],
   "source": [
    "#features and there types"
   ]
  },
  {
   "cell_type": "code",
   "execution_count": 29,
   "id": "9c7095ab-ac59-4da1-953c-5fd75d381dbf",
   "metadata": {},
   "outputs": [
    {
     "data": {
      "text/plain": [
       "sepal_length    float64\n",
       "sepal_width     float64\n",
       "petal_length    float64\n",
       "petal_width     float64\n",
       "species          object\n",
       "dtype: object"
      ]
     },
     "execution_count": 29,
     "metadata": {},
     "output_type": "execute_result"
    }
   ],
   "source": [
    "data.dtypes"
   ]
  },
  {
   "cell_type": "code",
   "execution_count": 30,
   "id": "16b2d03e-2875-475a-9759-97418b896e63",
   "metadata": {},
   "outputs": [
    {
     "data": {
      "text/html": [
       "<div>\n",
       "<style scoped>\n",
       "    .dataframe tbody tr th:only-of-type {\n",
       "        vertical-align: middle;\n",
       "    }\n",
       "\n",
       "    .dataframe tbody tr th {\n",
       "        vertical-align: top;\n",
       "    }\n",
       "\n",
       "    .dataframe thead th {\n",
       "        text-align: right;\n",
       "    }\n",
       "</style>\n",
       "<table border=\"1\" class=\"dataframe\">\n",
       "  <thead>\n",
       "    <tr style=\"text-align: right;\">\n",
       "      <th></th>\n",
       "      <th>sepal_length</th>\n",
       "      <th>sepal_width</th>\n",
       "      <th>petal_length</th>\n",
       "      <th>petal_width</th>\n",
       "    </tr>\n",
       "  </thead>\n",
       "  <tbody>\n",
       "    <tr>\n",
       "      <th>count</th>\n",
       "      <td>150.000000</td>\n",
       "      <td>150.000000</td>\n",
       "      <td>150.000000</td>\n",
       "      <td>150.000000</td>\n",
       "    </tr>\n",
       "    <tr>\n",
       "      <th>mean</th>\n",
       "      <td>5.843333</td>\n",
       "      <td>3.054000</td>\n",
       "      <td>3.758667</td>\n",
       "      <td>1.198667</td>\n",
       "    </tr>\n",
       "    <tr>\n",
       "      <th>std</th>\n",
       "      <td>0.828066</td>\n",
       "      <td>0.433594</td>\n",
       "      <td>1.764420</td>\n",
       "      <td>0.763161</td>\n",
       "    </tr>\n",
       "    <tr>\n",
       "      <th>min</th>\n",
       "      <td>4.300000</td>\n",
       "      <td>2.000000</td>\n",
       "      <td>1.000000</td>\n",
       "      <td>0.100000</td>\n",
       "    </tr>\n",
       "    <tr>\n",
       "      <th>25%</th>\n",
       "      <td>5.100000</td>\n",
       "      <td>2.800000</td>\n",
       "      <td>1.600000</td>\n",
       "      <td>0.300000</td>\n",
       "    </tr>\n",
       "    <tr>\n",
       "      <th>50%</th>\n",
       "      <td>5.800000</td>\n",
       "      <td>3.000000</td>\n",
       "      <td>4.350000</td>\n",
       "      <td>1.300000</td>\n",
       "    </tr>\n",
       "    <tr>\n",
       "      <th>75%</th>\n",
       "      <td>6.400000</td>\n",
       "      <td>3.300000</td>\n",
       "      <td>5.100000</td>\n",
       "      <td>1.800000</td>\n",
       "    </tr>\n",
       "    <tr>\n",
       "      <th>max</th>\n",
       "      <td>7.900000</td>\n",
       "      <td>4.400000</td>\n",
       "      <td>6.900000</td>\n",
       "      <td>2.500000</td>\n",
       "    </tr>\n",
       "  </tbody>\n",
       "</table>\n",
       "</div>"
      ],
      "text/plain": [
       "       sepal_length  sepal_width  petal_length  petal_width\n",
       "count    150.000000   150.000000    150.000000   150.000000\n",
       "mean       5.843333     3.054000      3.758667     1.198667\n",
       "std        0.828066     0.433594      1.764420     0.763161\n",
       "min        4.300000     2.000000      1.000000     0.100000\n",
       "25%        5.100000     2.800000      1.600000     0.300000\n",
       "50%        5.800000     3.000000      4.350000     1.300000\n",
       "75%        6.400000     3.300000      5.100000     1.800000\n",
       "max        7.900000     4.400000      6.900000     2.500000"
      ]
     },
     "execution_count": 30,
     "metadata": {},
     "output_type": "execute_result"
    }
   ],
   "source": [
    "data.describe()"
   ]
  },
  {
   "cell_type": "markdown",
   "id": "842d4cb5-640e-427c-b0cb-5ec3580249ca",
   "metadata": {},
   "source": [
    "**Calculating histogram for each feature**"
   ]
  },
  {
   "cell_type": "code",
   "execution_count": 32,
   "id": "dc3cf931-0769-42d9-8143-6a92759b960b",
   "metadata": {},
   "outputs": [
    {
     "data": {
      "text/plain": [
       "<Axes: xlabel='sepal_length', ylabel='Count'>"
      ]
     },
     "execution_count": 32,
     "metadata": {},
     "output_type": "execute_result"
    },
    {
     "data": {
      "image/png": "[encoded data removed]",
      "text/plain": [
       "<Figure size 640x480 with 1 Axes>"
      ]
     },
     "metadata": {},
     "output_type": "display_data"
    }
   ],
   "source": [
    "sns.histplot(data=data,x='sepal_length')"
   ]
  },
  {
   "cell_type": "code",
   "execution_count": 33,
   "id": "3a4c9b1f-9ce3-4edb-bd95-b94dc8e92751",
   "metadata": {},
   "outputs": [],
   "source": [
    "mean_sepal_length = data['sepal_length'].mean()\n",
    "median_sepal_length = data['sepal_length'].median()\n"
   ]
  },
  {
   "cell_type": "code",
   "execution_count": 34,
   "id": "2c3537d1-bbdc-4b2b-9f69-baef93322398",
   "metadata": {},
   "outputs": [
    {
     "data": {
      "text/plain": [
       "(5.843333333333334, 5.8)"
      ]
     },
     "execution_count": 34,
     "metadata": {},
     "output_type": "execute_result"
    }
   ],
   "source": [
    "mean_sepal_length,median_sepal_length"
   ]
  },
  {
   "cell_type": "markdown",
   "id": "62967f8a-29de-41ac-b56d-d7ac3416e7aa",
   "metadata": {},
   "source": [
    "Analysis : The histogram is approximately symmetric and bell-shaped, the mean and median will be close to each other.\n",
    "The central peak in the histogram corresponds to the mean and median values of the dataset.\n",
    "The histogram has a bell-shaped curve. This suggest that the SepalLengthCm values follow a normal distribution."
   ]
  },
  {
   "cell_type": "code",
   "execution_count": 35,
   "id": "f6f1db2c-cd1b-4709-943d-ecb5b3e998fe",
   "metadata": {},
   "outputs": [
    {
     "data": {
      "text/plain": [
       "<Axes: xlabel='sepal_width', ylabel='Count'>"
      ]
     },
     "execution_count": 35,
     "metadata": {},
     "output_type": "execute_result"
    },
    {
     "data": {
      "image/png": "[encoded data removed]",
      "text/plain": [
       "<Figure size 640x480 with 1 Axes>"
      ]
     },
     "metadata": {},
     "output_type": "display_data"
    }
   ],
   "source": [
    "sns.histplot(data=data,x='sepal_width')"
   ]
  },
  {
   "cell_type": "code",
   "execution_count": 36,
   "id": "80b76fd9-6de9-4bcc-9b8f-8714bb25cd88",
   "metadata": {},
   "outputs": [
    {
     "data": {
      "text/plain": [
       "(3.0540000000000003, 3.0)"
      ]
     },
     "execution_count": 36,
     "metadata": {},
     "output_type": "execute_result"
    }
   ],
   "source": [
    "mean_sepal = data['sepal_width'].mean()\n",
    "median_sepal = data['sepal_width'].median()\n",
    "mean_sepal,median_sepal"
   ]
  },
  {
   "cell_type": "markdown",
   "id": "7aaaeda3-334d-4f32-9501-f63df316472d",
   "metadata": {},
   "source": [
    "Analysis : The histogram has a bell-shaped curve. This suggest that the SepalWidthCm values follow a normal distribution."
   ]
  },
  {
   "cell_type": "code",
   "execution_count": 37,
   "id": "ffc886d0-3f4c-4754-9961-69d0c426a35e",
   "metadata": {},
   "outputs": [
    {
     "data": {
      "text/plain": [
       "<Axes: xlabel='petal_length', ylabel='Count'>"
      ]
     },
     "execution_count": 37,
     "metadata": {},
     "output_type": "execute_result"
    },
    {
     "data": {
      "image/png": "[encoded data removed]",
      "text/plain": [
       "<Figure size 640x480 with 1 Axes>"
      ]
     },
     "metadata": {},
     "output_type": "display_data"
    }
   ],
   "source": [
    "sns.histplot(data=data,x='petal_length')"
   ]
  },
  {
   "cell_type": "code",
   "execution_count": 38,
   "id": "c926c8d5-587b-4262-b677-1ba02633d012",
   "metadata": {},
   "outputs": [],
   "source": [
    "mean_petal_length = data['petal_length'].mean()\n",
    "median_petal_length = data['petal_length'].median()\n",
    "std_petal_length = data['petal_length'].std()\n"
   ]
  },
  {
   "cell_type": "code",
   "execution_count": 39,
   "id": "9c182e0b-14de-45df-8a70-381690fb32ba",
   "metadata": {},
   "outputs": [
    {
     "data": {
      "text/plain": [
       "(3.758666666666666, 4.35, 1.7644204199522626)"
      ]
     },
     "execution_count": 39,
     "metadata": {},
     "output_type": "execute_result"
    }
   ],
   "source": [
    "mean_petal_length,median_petal_length,std_petal_length"
   ]
  },
  {
   "cell_type": "markdown",
   "id": "0b57361d-fba1-4be2-84e3-87123d47bcc2",
   "metadata": {},
   "source": [
    "Analysis : The distribution has a longer tail to the  left (negative skew), it may indicate a skew in petal lengths for one or more species."
   ]
  },
  {
   "cell_type": "code",
   "execution_count": 40,
   "id": "996cfb44-f657-4e2b-a6be-a1956c8dfe8e",
   "metadata": {},
   "outputs": [
    {
     "data": {
      "text/plain": [
       "<Axes: xlabel='petal_length', ylabel='species'>"
      ]
     },
     "execution_count": 40,
     "metadata": {},
     "output_type": "execute_result"
    },
    {
     "data": {
      "image/png": "[encoded data removed]",
      "text/plain": [
       "<Figure size 640x480 with 1 Axes>"
      ]
     },
     "metadata": {},
     "output_type": "display_data"
    }
   ],
   "source": [
    "sns.histplot(data=data,x='petal_length', y='species')"
   ]
  },
  {
   "cell_type": "markdown",
   "id": "5b5aec89-3588-47f9-b3f8-377c7b6d835c",
   "metadata": {},
   "source": [
    "Analysis : Setosa: Setosa flowers tend to have smaller petal lengths, typically between 1 and 2.5 cm.\n",
    "Versicolor: Versicolor flowers typically have moderate petal lengths, ranging from about 3 cm to 5 cm.\n",
    "Virginica: Virginica flowers have larger petal lengths, generally between 4 cm and 7 cm."
   ]
  },
  {
   "cell_type": "code",
   "execution_count": 41,
   "id": "dde76702-11d3-40fe-aee0-50c9cb97347d",
   "metadata": {},
   "outputs": [
    {
     "data": {
      "text/plain": [
       "<Axes: xlabel='petal_width', ylabel='Count'>"
      ]
     },
     "execution_count": 41,
     "metadata": {},
     "output_type": "execute_result"
    },
    {
     "data": {
      "image/png": "[encoded data removed]",
      "text/plain": [
       "<Figure size 640x480 with 1 Axes>"
      ]
     },
     "metadata": {},
     "output_type": "display_data"
    }
   ],
   "source": [
    "sns.histplot(data=data,x='petal_width')"
   ]
  },
  {
   "cell_type": "markdown",
   "id": "92e8bd18-2554-4c22-ba74-ab200b6f1d48",
   "metadata": {},
   "source": [
    "**Calculating Boxplot for each feature**"
   ]
  },
  {
   "cell_type": "code",
   "execution_count": 42,
   "id": "8b6af727-6a24-447f-90bf-6fe612e5c2cd",
   "metadata": {},
   "outputs": [
    {
     "data": {
      "text/plain": [
       "<Axes: >"
      ]
     },
     "execution_count": 42,
     "metadata": {},
     "output_type": "execute_result"
    },
    {
     "data": {
      "image/png": "[encoded data removed]",
      "text/plain": [
       "<Figure size 640x480 with 1 Axes>"
      ]
     },
     "metadata": {},
     "output_type": "display_data"
    }
   ],
   "source": [
    "sns.boxplot(data=data.drop([\"species\"],axis=1))\n"
   ]
  },
  {
   "cell_type": "markdown",
   "id": "6b4f148a-4955-4a2a-aef4-ea2c413a2474",
   "metadata": {},
   "source": [
    "By dropping the species column, you are ensuring that the box plot is only focusing on the numerical features of the dataset (sepal length, sepal width, petal length, and petal width)."
   ]
  },
  {
   "cell_type": "markdown",
   "id": "5d8b8883-f708-4eea-b405-b3603fe502f6",
   "metadata": {},
   "source": [
    "Analysis : \n",
    "1-Sepal width has outliers\n",
    "2-Sepal_width box is relatively narrow, this indicates that the values of sepal_width are clustered closely around the median, meaning there is little variation in sepal_width.\n",
    "3-Petal_length the box represents the range of middle 50% of the petal_length values. A wider box means that the petal lengths are more spread out.\n",
    "4-Petal_width the box is wider, it indicates that the petal widths have more variability.\n",
    "\n",
    "Comparative Analysis of Features:\n",
    "\n",
    "Petal Length and Petal Width:\n",
    "    The petal_length and petal_width have a wider range and spread compared to sepal_length and sepal_width.\n",
    "    This is because petals generally show more variation among the different Iris species, especially in Versicolor and Virginica.\n",
    "    \n",
    "Sepal Length and Sepal Width:\n",
    "    These two features may have a narrower range compared to the petal features, suggesting that sepal lengths and widths have less variation.\n",
    "    Sepal_width is often more tightly clustered, indicating less variability in its measurements compared to sepal_length."
   ]
  },
  {
   "cell_type": "code",
   "execution_count": 43,
   "id": "21fa721f-9b30-4f7e-9803-7db011333451",
   "metadata": {},
   "outputs": [
    {
     "data": {
      "text/plain": [
       "<Axes: xlabel='species', ylabel='sepal_length'>"
      ]
     },
     "execution_count": 43,
     "metadata": {},
     "output_type": "execute_result"
    },
    {
     "data": {
      "image/png": "[encoded data removed]",
      "text/plain": [
       "<Figure size 640x480 with 1 Axes>"
      ]
     },
     "metadata": {},
     "output_type": "display_data"
    }
   ],
   "source": [
    "sns.boxplot(data=data, x=\"species\", y=\"sepal_length\")"
   ]
  },
  {
   "cell_type": "markdown",
   "id": "1a8854ca-a43a-4cf2-b443-fb8d30704c4d",
   "metadata": {},
   "source": [
    "Analysis : \n",
    "1-Setosa:\n",
    "    flowers have shorter sepals compared to Versicolor and Virginica. The median for Setosa’s sepal length will typically be near the lower end of the range, around 4.5 cm to 5.5 cm.\n",
    "    The IQR (box) for Setosa is expected to be relatively narrow, indicating that most Setosa flowers have similar sepal lengths.\n",
    "2-Versicolor:\n",
    "    Versicolor flowers have longer sepals than Setosa, with the median typically falling around 5.5 cm to 6.5 cm.\n",
    "    The IQR for Versicolor will be somewhat wider than Setosa, suggesting more variability in sepal length.\n",
    "3-Virginica:\n",
    "    Virginica flowers generally have the longest sepals compared to Setosa and Versicolor, with the median falling around 6.5 cm to 7 cm.\n",
    "    The IQR for Virginica will likely be wider than the other species, indicating more variation in sepal length within this species.\n",
    "    Outliers: Virginica could have more outliers due to the larger variation in sepal length. These outliers will appear as individual dots beyond the whiskers."
   ]
  },
  {
   "cell_type": "code",
   "execution_count": 44,
   "id": "931cf286-8143-4b85-8e8e-b0a0c2b73c91",
   "metadata": {},
   "outputs": [
    {
     "data": {
      "text/plain": [
       "<Axes: xlabel='species', ylabel='sepal_width'>"
      ]
     },
     "execution_count": 44,
     "metadata": {},
     "output_type": "execute_result"
    },
    {
     "data": {
      "image/png": "[encoded data removed]",
      "text/plain": [
       "<Figure size 640x480 with 1 Axes>"
      ]
     },
     "metadata": {},
     "output_type": "display_data"
    }
   ],
   "source": [
    "sns.boxplot(data=data,x=\"species\", y=\"sepal_width\")"
   ]
  },
  {
   "cell_type": "markdown",
   "id": "ab6e5afd-7a55-4c52-8c72-f8f38c83876a",
   "metadata": {},
   "source": [
    "Analysis : \n",
    "1-Setosa:\n",
    "    Median: Setosa flowers typically have wider sepals compared to the other two species. The median for Setosa’s sepal width will generally be around 3.0 cm to 3.5 cm.\n",
    "   IQR: Setosa show a moderate spread of sepal widths. The box will not be too wide, as Setosa flowers have relatively consistent sepal widths.\n",
    "    Whiskers: The whiskers for Setosa will extend to values close to 3.0 cm to 4.0 cm, showing that most Setosa flowers have sepal widths within this range.\n",
    "2-Versicolor:\n",
    "    Median: Versicolor flowers have moderately wide sepals, with the median likely around 2.5 cm to 3.0 cm.\n",
    "    Interquartile Range: The IQR for Versicolor will be wider than for Setosa, indicating more variation in sepal width within this species.\n",
    "    Whiskers: The whiskers will likely extend from around 2.0 cm to 3.5 cm. \n",
    "3-Virginica:\n",
    "    Median: Virginica flowers typically have narrower sepals compared to Setosa and Versicolor. The median will likely be around 2.2 cm to 2.8 cm.\n",
    "    Interquartile Range: Virginica will likely show the widest spread for sepal width, indicating more variation in this species.\n",
    "    Whiskers: The whiskers for Virginica will likely extend from 1.8 cm to 3.0 cm, showing that the sepal widths for this species are more varied.\n",
    "    Outliers: Virginica may have more outliers than the other two species, particularly if there are any extreme values in the sepal widths.    "
   ]
  },
  {
   "cell_type": "code",
   "execution_count": 45,
   "id": "601f30bb-4e5a-4668-80b9-0cf6beb30a3d",
   "metadata": {},
   "outputs": [
    {
     "data": {
      "text/plain": [
       "<Axes: xlabel='species', ylabel='petal_length'>"
      ]
     },
     "execution_count": 45,
     "metadata": {},
     "output_type": "execute_result"
    },
    {
     "data": {
      "image/png": "[encoded data removed]",
      "text/plain": [
       "<Figure size 640x480 with 1 Axes>"
      ]
     },
     "metadata": {},
     "output_type": "display_data"
    }
   ],
   "source": [
    "sns.boxplot(data=data, x=\"species\", y=\"petal_length\")"
   ]
  },
  {
   "cell_type": "markdown",
   "id": "549c877d-f9b5-4e87-b764-d8f1183d5fba",
   "metadata": {},
   "source": [
    "Analysis : \n",
    "Setosa:\n",
    "    Median: Setosa flowers have shorter petals compared to Versicolor and Virginica. The median for Setosa’s petal length is typically around 1.4 cm to 1.6 cm.\n",
    "    Interquartile Range (IQR): Setosa will likely have a narrower IQR, indicating that most Setosa flowers have similar petal lengths.\n",
    "    Whiskers: The whiskers for Setosa will extend to approximately 1.0 cm to 2.0 cm, showing that most Setosa flowers have petal lengths in this range.\n",
    "    Outliers: Setosa generally has consistent petal lengths, so there are likely few, if any, outliers.\n",
    "2. Versicolor:\n",
    "    Median: Versicolor flowers have medium-length petals, with the median typically around 4.5 cm to 5.0 cm.\n",
    "    Interquartile Range (IQR): The IQR for Versicolor will be wider than Setosa, indicating more variation in petal length within this species.\n",
    "    Whiskers: The whiskers will likely extend from around 4.0 cm to 6.0 cm, showing that the petal lengths for Versicolor range within this range.\n",
    "    Outliers: There may be few or no outliers, as Versicolor generally has a consistent petal length distribution, but there could still be some outliers beyond the whiskers.\n",
    "3. Virginica:\n",
    "    Median: Virginica flowers generally have longer petals, with the median falling around 5.5 cm to 6.0 cm.\n",
    "    Interquartile Range (IQR): Virginica will likely have a wider IQR compared to Setosa, indicating more variability in petal length.\n",
    "    Whiskers: The whiskers for Virginica will likely extend from 5.0 cm to 7.0 cm, showing that the petal lengths for Virginica are more spread out.\n",
    "    Outliers: Virginica might have more outliers than Setosa and Versicolor, especially if there are extreme values in petal length."
   ]
  },
  {
   "cell_type": "code",
   "execution_count": 46,
   "id": "d60e4682-b90b-4fc3-8187-3ad75d44d95d",
   "metadata": {},
   "outputs": [
    {
     "data": {
      "text/plain": [
       "<Axes: xlabel='species', ylabel='petal_width'>"
      ]
     },
     "execution_count": 46,
     "metadata": {},
     "output_type": "execute_result"
    },
    {
     "data": {
      "image/png": "[encoded data removed]",
      "text/plain": [
       "<Figure size 640x480 with 1 Axes>"
      ]
     },
     "metadata": {},
     "output_type": "display_data"
    }
   ],
   "source": [
    "sns.boxplot(data=data, x=\"species\",y=\"petal_width\")"
   ]
  },
  {
   "cell_type": "code",
   "execution_count": 47,
   "id": "f71dc29d-82a2-4741-9956-eb89a8c807ca",
   "metadata": {},
   "outputs": [
    {
     "data": {
      "text/html": [
       "<div>\n",
       "<style scoped>\n",
       "    .dataframe tbody tr th:only-of-type {\n",
       "        vertical-align: middle;\n",
       "    }\n",
       "\n",
       "    .dataframe tbody tr th {\n",
       "        vertical-align: top;\n",
       "    }\n",
       "\n",
       "    .dataframe thead th {\n",
       "        text-align: right;\n",
       "    }\n",
       "</style>\n",
       "<table border=\"1\" class=\"dataframe\">\n",
       "  <thead>\n",
       "    <tr style=\"text-align: right;\">\n",
       "      <th></th>\n",
       "      <th>sepal_length</th>\n",
       "      <th>sepal_width</th>\n",
       "      <th>petal_length</th>\n",
       "      <th>petal_width</th>\n",
       "    </tr>\n",
       "  </thead>\n",
       "  <tbody>\n",
       "    <tr>\n",
       "      <th>sepal_length</th>\n",
       "      <td>1.000000</td>\n",
       "      <td>-0.109369</td>\n",
       "      <td>0.871754</td>\n",
       "      <td>0.817954</td>\n",
       "    </tr>\n",
       "    <tr>\n",
       "      <th>sepal_width</th>\n",
       "      <td>-0.109369</td>\n",
       "      <td>1.000000</td>\n",
       "      <td>-0.420516</td>\n",
       "      <td>-0.356544</td>\n",
       "    </tr>\n",
       "    <tr>\n",
       "      <th>petal_length</th>\n",
       "      <td>0.871754</td>\n",
       "      <td>-0.420516</td>\n",
       "      <td>1.000000</td>\n",
       "      <td>0.962757</td>\n",
       "    </tr>\n",
       "    <tr>\n",
       "      <th>petal_width</th>\n",
       "      <td>0.817954</td>\n",
       "      <td>-0.356544</td>\n",
       "      <td>0.962757</td>\n",
       "      <td>1.000000</td>\n",
       "    </tr>\n",
       "  </tbody>\n",
       "</table>\n",
       "</div>"
      ],
      "text/plain": [
       "              sepal_length  sepal_width  petal_length  petal_width\n",
       "sepal_length      1.000000    -0.109369      0.871754     0.817954\n",
       "sepal_width      -0.109369     1.000000     -0.420516    -0.356544\n",
       "petal_length      0.871754    -0.420516      1.000000     0.962757\n",
       "petal_width       0.817954    -0.356544      0.962757     1.000000"
      ]
     },
     "execution_count": 47,
     "metadata": {},
     "output_type": "execute_result"
    }
   ],
   "source": [
    "data[[\"sepal_length\",\"sepal_width\",\"petal_length\",\"petal_width\"]].corr()"
   ]
  }
 ],
 "metadata": {
  "kernelspec": {
   "display_name": "Python 3 (ipykernel)",
   "language": "python",
   "name": "python3"
  },
  "language_info": {
   "codemirror_mode": {
    "name": "ipython",
    "version": 3
   },
   "file_extension": ".py",
   "mimetype": "text/x-python",
   "name": "python",
   "nbconvert_exporter": "python",
   "pygments_lexer": "ipython3",
   "version": "3.10.12"
  }
 },
 "nbformat": 4,
 "nbformat_minor": 5
}
