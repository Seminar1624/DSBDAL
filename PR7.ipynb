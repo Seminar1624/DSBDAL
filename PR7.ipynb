{
 "cells": [
  {
   "cell_type": "code",
   "execution_count": 40,
   "id": "cb5581f5-e4e8-451c-be5f-a6de0004ec54",
   "metadata": {},
   "outputs": [
    {
     "name": "stdout",
     "output_type": "stream",
     "text": [
      "Defaulting to user installation because normal site-packages is not writeable\n",
      "Requirement already satisfied: nltk in /home/te/.local/lib/python3.10/site-packages (3.9.1)\n",
      "Requirement already satisfied: click in /usr/lib/python3/dist-packages (from nltk) (8.0.3)\n",
      "Requirement already satisfied: joblib in /usr/local/lib/python3.10/dist-packages (from nltk) (1.3.2)\n",
      "Requirement already satisfied: regex>=2021.8.3 in /home/te/.local/lib/python3.10/site-packages (from nltk) (2024.11.6)\n",
      "Requirement already satisfied: tqdm in /usr/local/lib/python3.10/dist-packages (from nltk) (4.66.1)\n"
     ]
    }
   ],
   "source": [
    "!pip install nltk"
   ]
  },
  {
   "cell_type": "code",
   "execution_count": 41,
   "id": "deabcfc1-cd79-4a95-a676-09cdc941664c",
   "metadata": {},
   "outputs": [],
   "source": [
    "!python3 -m pip install -q --upgrade pip"
   ]
  },
  {
   "cell_type": "markdown",
   "id": "2b89dbcf-eb30-4ee9-98e0-acbef91506b2",
   "metadata": {},
   "source": [
    "### Assignment 7"
   ]
  },
  {
   "cell_type": "markdown",
   "id": "9ec04711-354f-49c3-bcb7-940f3170ad61",
   "metadata": {},
   "source": [
    "#### Data Preprocessing methods"
   ]
  },
  {
   "cell_type": "markdown",
   "id": "633c14c8-6d67-4d84-92ef-a8d2ce0a01ca",
   "metadata": {},
   "source": [
    "**1] Tokenization**"
   ]
  },
  {
   "cell_type": "code",
   "execution_count": 53,
   "id": "42fd10ea-d787-498a-b2e5-61f348a593e9",
   "metadata": {},
   "outputs": [
    {
     "name": "stderr",
     "output_type": "stream",
     "text": [
      "[nltk_data] Downloading package punkt_tab to /home/te/nltk_data...\n",
      "[nltk_data]   Package punkt_tab is already up-to-date!\n"
     ]
    },
    {
     "data": {
      "text/plain": [
       "True"
      ]
     },
     "execution_count": 53,
     "metadata": {},
     "output_type": "execute_result"
    }
   ],
   "source": [
    "import os\n",
    "import nltk\n",
    "from nltk.tokenize import word_tokenize,sent_tokenize\n",
    "nltk.download('punkt_tab')\n"
   ]
  },
  {
   "cell_type": "code",
   "execution_count": 54,
   "id": "89b820e5-d43b-4806-b128-4b05f757b5fc",
   "metadata": {},
   "outputs": [
    {
     "name": "stderr",
     "output_type": "stream",
     "text": [
      "[nltk_data] Downloading package punkt_tab to\n",
      "[nltk_data]     /home/te/Documents/31417/Assignment_7/nltk_data...\n",
      "[nltk_data]   Package punkt_tab is already up-to-date!\n"
     ]
    }
   ],
   "source": [
    "nltk_data_dir = os.path.join(os.getcwd(), \"nltk_data\") # creates a folder nltk_data in your current working directory\n",
    "nltk.download(\"punkt_tab\", download_dir=nltk_data_dir)\n",
    "nltk.data.path.append(nltk_data_dir) # add the directory to nltk.data.path\n"
   ]
  },
  {
   "cell_type": "code",
   "execution_count": 34,
   "id": "dc865d74-f32e-42e8-a461-2c346b9d0c39",
   "metadata": {},
   "outputs": [],
   "source": [
    "text_data= \"More than 70 people died of methanol poisoning in the Russian city of Irkutsk in December 2016. Caused by the consumption of adulterated surrogate alcohol, it was the deadliest such incident in Russia's post-Soviet history. Russian consumption of surrogate alcohol rose rapidly in the early 2010s amid worsening economic conditions because they were commonly available and cost less than government-regulated vodka. In the Irkutsk incident, people drank hawthorn-scented bath oil which was typically made with and labeled as containing drinkable ethanol. At least one batch was made instead with a toxic amount of methanol (pictured with ethanol), causing injuries and deaths among residents of Novo-Lenino, a neighborhood in Irkutsk. An investigation found that the surrogate alcohol's producer sourced the methanol from an employee of a local windshield washer fluid production facility. The Russian government increased punishments for illegally producing and selling alcohol, and they made it more difficult to acquire surrogate alcohol.\""
   ]
  },
  {
   "cell_type": "markdown",
   "id": "03c873fa-fe33-4142-94d0-9b009950a25d",
   "metadata": {},
   "source": [
    "**Word Toknizer**"
   ]
  },
  {
   "cell_type": "code",
   "execution_count": 55,
   "id": "7506cb00-d2e2-4cb9-8556-9e549a223082",
   "metadata": {
    "scrolled": true
   },
   "outputs": [
    {
     "name": "stdout",
     "output_type": "stream",
     "text": [
      "['More', 'than', '70', 'people', 'died', 'of', 'methanol', 'poisoning', 'in', 'the', 'Russian', 'city', 'of', 'Irkutsk', 'in', 'December', '2016', '.', 'Caused', 'by', 'the', 'consumption', 'of', 'adulterated', 'surrogate', 'alcohol', ',', 'it', 'was', 'the', 'deadliest', 'such', 'incident', 'in', 'Russia', \"'s\", 'post-Soviet', 'history', '.', 'Russian', 'consumption', 'of', 'surrogate', 'alcohol', 'rose', 'rapidly', 'in', 'the', 'early', '2010s', 'amid', 'worsening', 'economic', 'conditions', 'because', 'they', 'were', 'commonly', 'available', 'and', 'cost', 'less', 'than', 'government-regulated', 'vodka', '.', 'In', 'the', 'Irkutsk', 'incident', ',', 'people', 'drank', 'hawthorn-scented', 'bath', 'oil', 'which', 'was', 'typically', 'made', 'with', 'and', 'labeled', 'as', 'containing', 'drinkable', 'ethanol', '.', 'At', 'least', 'one', 'batch', 'was', 'made', 'instead', 'with', 'a', 'toxic', 'amount', 'of', 'methanol', '(', 'pictured', 'with', 'ethanol', ')', ',', 'causing', 'injuries', 'and', 'deaths', 'among', 'residents', 'of', 'Novo-Lenino', ',', 'a', 'neighborhood', 'in', 'Irkutsk', '.', 'An', 'investigation', 'found', 'that', 'the', 'surrogate', 'alcohol', \"'s\", 'producer', 'sourced', 'the', 'methanol', 'from', 'an', 'employee', 'of', 'a', 'local', 'windshield', 'washer', 'fluid', 'production', 'facility', '.', 'The', 'Russian', 'government', 'increased', 'punishments', 'for', 'illegally', 'producing', 'and', 'selling', 'alcohol', ',', 'and', 'they', 'made', 'it', 'more', 'difficult', 'to', 'acquire', 'surrogate', 'alcohol', '.']\n"
     ]
    }
   ],
   "source": [
    "words = nltk.word_tokenize(text_data)\n",
    "print(words)"
   ]
  },
  {
   "cell_type": "markdown",
   "id": "72651427-e127-4233-8789-b76a15545d59",
   "metadata": {},
   "source": [
    "**Sentence Tokenizer**"
   ]
  },
  {
   "cell_type": "code",
   "execution_count": 58,
   "id": "68e828ae-9ee6-40f1-b1ab-92fcd2339dee",
   "metadata": {},
   "outputs": [
    {
     "name": "stdout",
     "output_type": "stream",
     "text": [
      "['More than 70 people died of methanol poisoning in the Russian city of Irkutsk in December 2016.', \"Caused by the consumption of adulterated surrogate alcohol, it was the deadliest such incident in Russia's post-Soviet history.\", 'Russian consumption of surrogate alcohol rose rapidly in the early 2010s amid worsening economic conditions because they were commonly available and cost less than government-regulated vodka.', 'In the Irkutsk incident, people drank hawthorn-scented bath oil which was typically made with and labeled as containing drinkable ethanol.', 'At least one batch was made instead with a toxic amount of methanol (pictured with ethanol), causing injuries and deaths among residents of Novo-Lenino, a neighborhood in Irkutsk.', \"An investigation found that the surrogate alcohol's producer sourced the methanol from an employee of a local windshield washer fluid production facility.\", 'The Russian government increased punishments for illegally producing and selling alcohol, and they made it more difficult to acquire surrogate alcohol.']\n"
     ]
    }
   ],
   "source": [
    "sentences = sent_tokenize(text=text_data)\n",
    "print(sentences)"
   ]
  },
  {
   "cell_type": "markdown",
   "id": "d088c921-f838-4e9c-b862-2723e77c0de6",
   "metadata": {},
   "source": [
    "**Part of Speech Tagging**"
   ]
  },
  {
   "cell_type": "code",
   "execution_count": 62,
   "id": "91f94686-e68a-464a-9d9f-9e101fdbb5d6",
   "metadata": {},
   "outputs": [
    {
     "name": "stdout",
     "output_type": "stream",
     "text": [
      "[('More', 'JJR'), ('than', 'IN'), ('70', 'CD'), ('people', 'NNS'), ('died', 'VBD'), ('of', 'IN'), ('methanol', 'NN'), ('poisoning', 'NN'), ('in', 'IN'), ('the', 'DT'), ('Russian', 'JJ'), ('city', 'NN'), ('of', 'IN'), ('Irkutsk', 'NNP'), ('in', 'IN'), ('December', 'NNP'), ('2016', 'CD'), ('.', '.'), ('Caused', 'VBN'), ('by', 'IN'), ('the', 'DT'), ('consumption', 'NN'), ('of', 'IN'), ('adulterated', 'JJ'), ('surrogate', 'NN'), ('alcohol', 'NN'), (',', ','), ('it', 'PRP'), ('was', 'VBD'), ('the', 'DT'), ('deadliest', 'JJS'), ('such', 'JJ'), ('incident', 'NN'), ('in', 'IN'), ('Russia', 'NNP'), (\"'s\", 'POS'), ('post-Soviet', 'JJ'), ('history', 'NN'), ('.', '.'), ('Russian', 'JJ'), ('consumption', 'NN'), ('of', 'IN'), ('surrogate', 'NN'), ('alcohol', 'NN'), ('rose', 'VBD'), ('rapidly', 'RB'), ('in', 'IN'), ('the', 'DT'), ('early', 'JJ'), ('2010s', 'CD'), ('amid', 'IN'), ('worsening', 'VBG'), ('economic', 'JJ'), ('conditions', 'NNS'), ('because', 'IN'), ('they', 'PRP'), ('were', 'VBD'), ('commonly', 'RB'), ('available', 'JJ'), ('and', 'CC'), ('cost', 'NN'), ('less', 'JJR'), ('than', 'IN'), ('government-regulated', 'JJ'), ('vodka', 'NN'), ('.', '.'), ('In', 'IN'), ('the', 'DT'), ('Irkutsk', 'NNP'), ('incident', 'NN'), (',', ','), ('people', 'NNS'), ('drank', 'VBP'), ('hawthorn-scented', 'JJ'), ('bath', 'NN'), ('oil', 'NN'), ('which', 'WDT'), ('was', 'VBD'), ('typically', 'RB'), ('made', 'VBN'), ('with', 'IN'), ('and', 'CC'), ('labeled', 'VBD'), ('as', 'IN'), ('containing', 'VBG'), ('drinkable', 'JJ'), ('ethanol', 'NN'), ('.', '.'), ('At', 'IN'), ('least', 'JJS'), ('one', 'CD'), ('batch', 'NN'), ('was', 'VBD'), ('made', 'VBN'), ('instead', 'RB'), ('with', 'IN'), ('a', 'DT'), ('toxic', 'JJ'), ('amount', 'NN'), ('of', 'IN'), ('methanol', 'NN'), ('(', '('), ('pictured', 'VBN'), ('with', 'IN'), ('ethanol', 'NN'), (')', ')'), (',', ','), ('causing', 'VBG'), ('injuries', 'NNS'), ('and', 'CC'), ('deaths', 'NNS'), ('among', 'IN'), ('residents', 'NNS'), ('of', 'IN'), ('Novo-Lenino', 'NNP'), (',', ','), ('a', 'DT'), ('neighborhood', 'NN'), ('in', 'IN'), ('Irkutsk', 'NNP'), ('.', '.'), ('An', 'DT'), ('investigation', 'NN'), ('found', 'VBD'), ('that', 'IN'), ('the', 'DT'), ('surrogate', 'NN'), ('alcohol', 'NN'), (\"'s\", 'POS'), ('producer', 'NN'), ('sourced', 'VBD'), ('the', 'DT'), ('methanol', 'NN'), ('from', 'IN'), ('an', 'DT'), ('employee', 'NN'), ('of', 'IN'), ('a', 'DT'), ('local', 'JJ'), ('windshield', 'NN'), ('washer', 'NN'), ('fluid', 'NN'), ('production', 'NN'), ('facility', 'NN'), ('.', '.'), ('The', 'DT'), ('Russian', 'JJ'), ('government', 'NN'), ('increased', 'VBD'), ('punishments', 'NNS'), ('for', 'IN'), ('illegally', 'RB'), ('producing', 'VBG'), ('and', 'CC'), ('selling', 'VBG'), ('alcohol', 'NN'), (',', ','), ('and', 'CC'), ('they', 'PRP'), ('made', 'VBD'), ('it', 'PRP'), ('more', 'RBR'), ('difficult', 'JJ'), ('to', 'TO'), ('acquire', 'VB'), ('surrogate', 'NN'), ('alcohol', 'NN'), ('.', '.')]\n"
     ]
    },
    {
     "name": "stderr",
     "output_type": "stream",
     "text": [
      "[nltk_data] Downloading package averaged_perceptron_tagger_eng to\n",
      "[nltk_data]     /home/te/nltk_data...\n",
      "[nltk_data]   Package averaged_perceptron_tagger_eng is already up-to-\n",
      "[nltk_data]       date!\n"
     ]
    }
   ],
   "source": [
    "nltk.download('averaged_perceptron_tagger_eng')\n",
    "tags = nltk.pos_tag(words)\n",
    "print(tags)"
   ]
  },
  {
   "cell_type": "markdown",
   "id": "65b20c34-3cf7-4bc1-80e5-b41c0a342e49",
   "metadata": {},
   "source": [
    "**Stop words removal**"
   ]
  },
  {
   "cell_type": "code",
   "execution_count": 65,
   "id": "e5126de2-31e9-48c8-afcd-18b4e7a3be74",
   "metadata": {},
   "outputs": [
    {
     "name": "stderr",
     "output_type": "stream",
     "text": [
      "[nltk_data] Downloading package stopwords to /home/te/nltk_data...\n",
      "[nltk_data]   Package stopwords is already up-to-date!\n"
     ]
    },
    {
     "data": {
      "text/plain": [
       "True"
      ]
     },
     "execution_count": 65,
     "metadata": {},
     "output_type": "execute_result"
    }
   ],
   "source": [
    "from nltk.corpus import stopwords\n",
    "nltk.download('stopwords')"
   ]
  },
  {
   "cell_type": "code",
   "execution_count": 67,
   "id": "7d16af2d-c220-47ed-8017-9acc107e75bf",
   "metadata": {},
   "outputs": [],
   "source": [
    "stop_words = set(stopwords.words(\"english\"))"
   ]
  },
  {
   "cell_type": "code",
   "execution_count": 68,
   "id": "7b41735e-534b-4cc9-b865-f9b5bc55a13e",
   "metadata": {},
   "outputs": [],
   "source": [
    "def remove_stop_words(sentence):\n",
    "    words = sentence.split()\n",
    "    filtered_words = [word for word in words if word.lower() not in stop_words]\n",
    "    return ' '.join(filtered_words)"
   ]
  },
  {
   "cell_type": "code",
   "execution_count": 70,
   "id": "5f50d226-38f8-4278-aa61-81b853c078e0",
   "metadata": {},
   "outputs": [
    {
     "name": "stdout",
     "output_type": "stream",
     "text": [
      "70 people died methanol poisoning Russian city Irkutsk December 2016. Caused consumption adulterated surrogate alcohol, deadliest incident Russia's post-Soviet history. Russian consumption surrogate alcohol rose rapidly early 2010s amid worsening economic conditions commonly available cost less government-regulated vodka. Irkutsk incident, people drank hawthorn-scented bath oil typically made labeled containing drinkable ethanol. least one batch made instead toxic amount methanol (pictured ethanol), causing injuries deaths among residents Novo-Lenino, neighborhood Irkutsk. investigation found surrogate alcohol's producer sourced methanol employee local windshield washer fluid production facility. Russian government increased punishments illegally producing selling alcohol, made difficult acquire surrogate alcohol.\n"
     ]
    }
   ],
   "source": [
    "filtered_sentence = remove_stop_words(text_data)\n",
    "print(filtered_sentence)"
   ]
  },
  {
   "cell_type": "markdown",
   "id": "8a91b285-ad3b-4e0b-aab0-a3e975f1c071",
   "metadata": {},
   "source": [
    "**Stemming**"
   ]
  },
  {
   "cell_type": "code",
   "execution_count": 75,
   "id": "5d33e2e5-86cc-45f5-9749-90c9560388d8",
   "metadata": {},
   "outputs": [],
   "source": [
    "from nltk.stem import PorterStemmer"
   ]
  },
  {
   "cell_type": "code",
   "execution_count": 77,
   "id": "f221d516-db2c-4e1b-8368-18e52d83de71",
   "metadata": {},
   "outputs": [
    {
     "name": "stdout",
     "output_type": "stream",
     "text": [
      "['more', 'than', '70', 'peopl', 'die', 'of', 'methanol', 'poison', 'in', 'the', 'russian', 'citi', 'of', 'irkutsk', 'in', 'decemb', '2016', '.', 'caus', 'by', 'the', 'consumpt', 'of', 'adulter', 'surrog', 'alcohol', ',', 'it', 'wa', 'the', 'deadliest', 'such', 'incid', 'in', 'russia', \"'s\", 'post-soviet', 'histori', '.', 'russian', 'consumpt', 'of', 'surrog', 'alcohol', 'rose', 'rapidli', 'in', 'the', 'earli', '2010', 'amid', 'worsen', 'econom', 'condit', 'becaus', 'they', 'were', 'commonli', 'avail', 'and', 'cost', 'less', 'than', 'government-regul', 'vodka', '.', 'in', 'the', 'irkutsk', 'incid', ',', 'peopl', 'drank', 'hawthorn-sc', 'bath', 'oil', 'which', 'wa', 'typic', 'made', 'with', 'and', 'label', 'as', 'contain', 'drinkabl', 'ethanol', '.', 'at', 'least', 'one', 'batch', 'wa', 'made', 'instead', 'with', 'a', 'toxic', 'amount', 'of', 'methanol', '(', 'pictur', 'with', 'ethanol', ')', ',', 'caus', 'injuri', 'and', 'death', 'among', 'resid', 'of', 'novo-lenino', ',', 'a', 'neighborhood', 'in', 'irkutsk', '.', 'an', 'investig', 'found', 'that', 'the', 'surrog', 'alcohol', \"'s\", 'produc', 'sourc', 'the', 'methanol', 'from', 'an', 'employe', 'of', 'a', 'local', 'windshield', 'washer', 'fluid', 'product', 'facil', '.', 'the', 'russian', 'govern', 'increas', 'punish', 'for', 'illeg', 'produc', 'and', 'sell', 'alcohol', ',', 'and', 'they', 'made', 'it', 'more', 'difficult', 'to', 'acquir', 'surrog', 'alcohol', '.']\n"
     ]
    }
   ],
   "source": [
    "ps = PorterStemmer()\n",
    "stemmed = []\n",
    "for word in words:\n",
    "    stemmed.append(ps.stem(word))\n",
    "print(stemmed)"
   ]
  },
  {
   "cell_type": "markdown",
   "id": "6815bfa8-ced9-4cab-9da1-658528482499",
   "metadata": {},
   "source": [
    "**Lemmatization**"
   ]
  },
  {
   "cell_type": "code",
   "execution_count": 88,
   "id": "028531d8-65a7-4a56-9b50-5d9d06c97f27",
   "metadata": {},
   "outputs": [
    {
     "name": "stderr",
     "output_type": "stream",
     "text": [
      "[nltk_data] Downloading package wordnet to /home/te/nltk_data...\n"
     ]
    },
    {
     "data": {
      "text/plain": [
       "True"
      ]
     },
     "execution_count": 88,
     "metadata": {},
     "output_type": "execute_result"
    }
   ],
   "source": [
    "from nltk.stem import WordNetLemmatizer\n",
    "nltk.download('wordnet')"
   ]
  },
  {
   "cell_type": "code",
   "execution_count": 89,
   "id": "00b26cba-c854-4692-850e-e2930b20865f",
   "metadata": {},
   "outputs": [],
   "source": [
    "lemmatizer = WordNetLemmatizer()"
   ]
  },
  {
   "cell_type": "code",
   "execution_count": 90,
   "id": "553b8974-01b4-40ad-b9e8-8b5a095b0816",
   "metadata": {},
   "outputs": [
    {
     "name": "stdout",
     "output_type": "stream",
     "text": [
      "['More', 'than', '70', 'people', 'died', 'of', 'methanol', 'poisoning', 'in', 'the', 'Russian', 'city', 'of', 'Irkutsk', 'in', 'December', '2016', '.', 'Caused', 'by', 'the', 'consumption', 'of', 'adulterated', 'surrogate', 'alcohol', ',', 'it', 'wa', 'the', 'deadliest', 'such', 'incident', 'in', 'Russia', \"'s\", 'post-Soviet', 'history', '.', 'Russian', 'consumption', 'of', 'surrogate', 'alcohol', 'rose', 'rapidly', 'in', 'the', 'early', '2010s', 'amid', 'worsening', 'economic', 'condition', 'because', 'they', 'were', 'commonly', 'available', 'and', 'cost', 'less', 'than', 'government-regulated', 'vodka', '.', 'In', 'the', 'Irkutsk', 'incident', ',', 'people', 'drank', 'hawthorn-scented', 'bath', 'oil', 'which', 'wa', 'typically', 'made', 'with', 'and', 'labeled', 'a', 'containing', 'drinkable', 'ethanol', '.', 'At', 'least', 'one', 'batch', 'wa', 'made', 'instead', 'with', 'a', 'toxic', 'amount', 'of', 'methanol', '(', 'pictured', 'with', 'ethanol', ')', ',', 'causing', 'injury', 'and', 'death', 'among', 'resident', 'of', 'Novo-Lenino', ',', 'a', 'neighborhood', 'in', 'Irkutsk', '.', 'An', 'investigation', 'found', 'that', 'the', 'surrogate', 'alcohol', \"'s\", 'producer', 'sourced', 'the', 'methanol', 'from', 'an', 'employee', 'of', 'a', 'local', 'windshield', 'washer', 'fluid', 'production', 'facility', '.', 'The', 'Russian', 'government', 'increased', 'punishment', 'for', 'illegally', 'producing', 'and', 'selling', 'alcohol', ',', 'and', 'they', 'made', 'it', 'more', 'difficult', 'to', 'acquire', 'surrogate', 'alcohol', '.']\n"
     ]
    }
   ],
   "source": [
    "lemmatized = []\n",
    "for word in words:\n",
    "    lemmatized.append(lemmatizer.lemmatize(word))\n",
    "print(lemmatized)\n"
   ]
  },
  {
   "cell_type": "markdown",
   "id": "d07b0d6c-cea3-47b1-b22e-8b8be7658dae",
   "metadata": {},
   "source": [
    "#### Term Frequency and Inverse Document Frequency"
   ]
  },
  {
   "cell_type": "code",
   "execution_count": 100,
   "id": "955b840b-8a4e-4f79-9c05-03d5aeb24982",
   "metadata": {},
   "outputs": [],
   "source": [
    "word_document_count = {}\n",
    "words = [ w for w in words if w not in stop_words and w.isalnum()]\n",
    "for word in words:\n",
    "    if word.lower() in word_document_count:\n",
    "        word_document_count[word.lower()]+=1\n",
    "    else:\n",
    "        word_document_count[word.lower()]=1"
   ]
  },
  {
   "cell_type": "code",
   "execution_count": 103,
   "id": "5c67ddba-c595-4f1c-9785-adaf1f93ccbd",
   "metadata": {},
   "outputs": [
    {
     "name": "stdout",
     "output_type": "stream",
     "text": [
      "{'more': 1, '70': 1, 'people': 2, 'died': 1, 'methanol': 3, 'poisoning': 1, 'russian': 3, 'city': 1, 'irkutsk': 3, 'december': 1, '2016': 1, 'caused': 1, 'consumption': 2, 'adulterated': 1, 'surrogate': 4, 'alcohol': 5, 'deadliest': 1, 'incident': 2, 'russia': 1, 'history': 1, 'rose': 1, 'rapidly': 1, 'early': 1, '2010s': 1, 'amid': 1, 'worsening': 1, 'economic': 1, 'conditions': 1, 'commonly': 1, 'available': 1, 'cost': 1, 'less': 1, 'vodka': 1, 'in': 1, 'drank': 1, 'bath': 1, 'oil': 1, 'typically': 1, 'made': 3, 'labeled': 1, 'containing': 1, 'drinkable': 1, 'ethanol': 2, 'at': 1, 'least': 1, 'one': 1, 'batch': 1, 'instead': 1, 'toxic': 1, 'amount': 1, 'pictured': 1, 'causing': 1, 'injuries': 1, 'deaths': 1, 'among': 1, 'residents': 1, 'neighborhood': 1, 'an': 1, 'investigation': 1, 'found': 1, 'producer': 1, 'sourced': 1, 'employee': 1, 'local': 1, 'windshield': 1, 'washer': 1, 'fluid': 1, 'production': 1, 'facility': 1, 'the': 1, 'government': 1, 'increased': 1, 'punishments': 1, 'illegally': 1, 'producing': 1, 'selling': 1, 'difficult': 1, 'acquire': 1}\n"
     ]
    }
   ],
   "source": [
    "print(word_document_count)"
   ]
  },
  {
   "cell_type": "code",
   "execution_count": 103,
   "id": "21c449ea-8ab5-48c1-978e-c7548933d839",
   "metadata": {},
   "outputs": [
    {
     "name": "stdout",
     "output_type": "stream",
     "text": [
      "{'more': 1, '70': 1, 'people': 2, 'died': 1, 'methanol': 3, 'poisoning': 1, 'russian': 3, 'city': 1, 'irkutsk': 3, 'december': 1, '2016': 1, 'caused': 1, 'consumption': 2, 'adulterated': 1, 'surrogate': 4, 'alcohol': 5, 'deadliest': 1, 'incident': 2, 'russia': 1, 'history': 1, 'rose': 1, 'rapidly': 1, 'early': 1, '2010s': 1, 'amid': 1, 'worsening': 1, 'economic': 1, 'conditions': 1, 'commonly': 1, 'available': 1, 'cost': 1, 'less': 1, 'vodka': 1, 'in': 1, 'drank': 1, 'bath': 1, 'oil': 1, 'typically': 1, 'made': 3, 'labeled': 1, 'containing': 1, 'drinkable': 1, 'ethanol': 2, 'at': 1, 'least': 1, 'one': 1, 'batch': 1, 'instead': 1, 'toxic': 1, 'amount': 1, 'pictured': 1, 'causing': 1, 'injuries': 1, 'deaths': 1, 'among': 1, 'residents': 1, 'neighborhood': 1, 'an': 1, 'investigation': 1, 'found': 1, 'producer': 1, 'sourced': 1, 'employee': 1, 'local': 1, 'windshield': 1, 'washer': 1, 'fluid': 1, 'production': 1, 'facility': 1, 'the': 1, 'government': 1, 'increased': 1, 'punishments': 1, 'illegally': 1, 'producing': 1, 'selling': 1, 'difficult': 1, 'acquire': 1}\n"
     ]
    }
   ],
   "source": [
    "print(word_document_count)"
   ]
  },
  {
   "cell_type": "code",
   "execution_count": 109,
   "id": "67b4ad30-f873-4e7d-bd7e-b9d2974ed833",
   "metadata": {},
   "outputs": [
    {
     "name": "stdout",
     "output_type": "stream",
     "text": [
      "More than 70 people died of methanol poisoning in the Russian city of Irkutsk in December 2016. Caused by the consumption of adulterated surrogate alcohol, it was the deadliest such incident in Russia's post-Soviet history. Russian consumption of surrogate alcohol rose rapidly in the early 2010s amid worsening economic conditions because they were commonly available and cost less than government-regulated vodka. In the Irkutsk incident, people drank hawthorn-scented bath oil which was typically made with and labeled as containing drinkable ethanol. At least one batch was made instead with a toxic amount of methanol (pictured with ethanol), causing injuries and deaths among residents of Novo-Lenino, a neighborhood in Irkutsk. An investigation found that the surrogate alcohol's producer sourced the methanol from an employee of a local windshield washer fluid production facility. The Russian government increased punishments for illegally producing and selling alcohol, and they made it more difficult to acquire surrogate alcohol.\n"
     ]
    }
   ],
   "source": [
    "print(text_data)"
   ]
  },
  {
   "cell_type": "code",
   "execution_count": 119,
   "id": "ee4226c2-4a3c-46cd-bc2a-45b309f6cafe",
   "metadata": {},
   "outputs": [],
   "source": [
    "import math\n",
    "def compute_idf(words):\n",
    "    word_document_count = {}\n",
    "\n",
    "    stop_words = set(stopwords.words('english'))\n",
    "    words = [w for w in words if w not in stop_words and w.isalnum()]\n",
    "\n",
    "    for word in words:\n",
    "        if word in word_document_count:\n",
    "            word_document_count[word] += 1\n",
    "        else:\n",
    "            word_document_count[word] = 1\n",
    "\n",
    "    idf = {}\n",
    "    for word, count in word_document_count.items():\n",
    "        idf[word] = math.log(len(words) / float(count))\n",
    "    return idf"
   ]
  },
  {
   "cell_type": "code",
   "execution_count": 120,
   "id": "0166b21b-2347-45b6-b2f7-73ae4b8b9e3a",
   "metadata": {},
   "outputs": [
    {
     "name": "stdout",
     "output_type": "stream",
     "text": [
      "{'More': 4.574710978503383, '70': 4.574710978503383, 'people': 3.8815637979434374, 'died': 4.574710978503383, 'methanol': 3.4760986898352733, 'poisoning': 4.574710978503383, 'Russian': 3.4760986898352733, 'city': 4.574710978503383, 'Irkutsk': 3.4760986898352733, 'December': 4.574710978503383, '2016': 4.574710978503383, 'Caused': 4.574710978503383, 'consumption': 3.8815637979434374, 'adulterated': 4.574710978503383, 'surrogate': 3.188416617383492, 'alcohol': 2.9652730660692823, 'deadliest': 4.574710978503383, 'incident': 3.8815637979434374, 'Russia': 4.574710978503383, 'history': 4.574710978503383, 'rose': 4.574710978503383, 'rapidly': 4.574710978503383, 'early': 4.574710978503383, '2010s': 4.574710978503383, 'amid': 4.574710978503383, 'worsening': 4.574710978503383, 'economic': 4.574710978503383, 'conditions': 4.574710978503383, 'commonly': 4.574710978503383, 'available': 4.574710978503383, 'cost': 4.574710978503383, 'less': 4.574710978503383, 'vodka': 4.574710978503383, 'In': 4.574710978503383, 'drank': 4.574710978503383, 'bath': 4.574710978503383, 'oil': 4.574710978503383, 'typically': 4.574710978503383, 'made': 3.4760986898352733, 'labeled': 4.574710978503383, 'containing': 4.574710978503383, 'drinkable': 4.574710978503383, 'ethanol': 3.8815637979434374, 'At': 4.574710978503383, 'least': 4.574710978503383, 'one': 4.574710978503383, 'batch': 4.574710978503383, 'instead': 4.574710978503383, 'toxic': 4.574710978503383, 'amount': 4.574710978503383, 'pictured': 4.574710978503383, 'causing': 4.574710978503383, 'injuries': 4.574710978503383, 'deaths': 4.574710978503383, 'among': 4.574710978503383, 'residents': 4.574710978503383, 'neighborhood': 4.574710978503383, 'An': 4.574710978503383, 'investigation': 4.574710978503383, 'found': 4.574710978503383, 'producer': 4.574710978503383, 'sourced': 4.574710978503383, 'employee': 4.574710978503383, 'local': 4.574710978503383, 'windshield': 4.574710978503383, 'washer': 4.574710978503383, 'fluid': 4.574710978503383, 'production': 4.574710978503383, 'facility': 4.574710978503383, 'The': 4.574710978503383, 'government': 4.574710978503383, 'increased': 4.574710978503383, 'punishments': 4.574710978503383, 'illegally': 4.574710978503383, 'producing': 4.574710978503383, 'selling': 4.574710978503383, 'difficult': 4.574710978503383, 'acquire': 4.574710978503383}\n"
     ]
    }
   ],
   "source": [
    "print(compute_idf(words))"
   ]
  }
 ],
 "metadata": {
  "kernelspec": {
   "display_name": "Python 3 (ipykernel)",
   "language": "python",
   "name": "python3"
  },
  "language_info": {
   "codemirror_mode": {
    "name": "ipython",
    "version": 3
   },
   "file_extension": ".py",
   "mimetype": "text/x-python",
   "name": "python",
   "nbconvert_exporter": "python",
   "pygments_lexer": "ipython3",
   "version": "3.10.12"
  }
 },
 "nbformat": 4,
 "nbformat_minor": 5
}
